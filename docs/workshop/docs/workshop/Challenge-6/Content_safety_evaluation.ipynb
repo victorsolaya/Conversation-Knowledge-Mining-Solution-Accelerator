{
 "cells": [
  {
   "cell_type": "code",
   "execution_count": null,
   "metadata": {},
   "outputs": [],
   "source": [
    "# Copyright (c) Microsoft. All rights reserved."
   ]
  },
  {
   "cell_type": "code",
   "execution_count": null,
   "metadata": {},
   "outputs": [],
   "source": [
    "import time\n",
    "import json\n",
    "from pathlib import Path\n",
    "import os\n",
    "from azure.ai.evaluation.simulator import AdversarialSimulator\n",
    "from dotenv import load_dotenv\n",
    "load_dotenv()\n",
    "\n",
    "# Define folder paths\n",
    "output_folder = \"output\"\n",
    "Path(output_folder).mkdir(parents=True, exist_ok=True)  # Ensure output folder exists\n",
    "\n",
    "count = 5"
   ]
  },
  {
   "cell_type": "code",
   "execution_count": null,
   "metadata": {},
   "outputs": [],
   "source": [
    "from azure.identity import AzureCliCredential\n",
    "\n",
    "azure_ai_project = {\n",
    "    \"subscription_id\": os.environ.get(\"AZURE_SUBSCRIPTION_ID\"),\n",
    "    \"resource_group_name\": os.environ.get(\"AZURE_RESOURCE_GROUP_NAME\"),\n",
    "    \"project_name\": os.environ.get(\"AZURE_PROJECT_NAME\")\n",
    "}\n",
    "\n",
    "# your azure api endpoint\n",
    "api_url = \"<your_api_endpoint>/api/chat\""
   ]
  },
  {
   "cell_type": "code",
   "execution_count": null,
   "metadata": {},
   "outputs": [],
   "source": [
    "from pathlib import Path\n",
    "import requests\n",
    "\n",
    "def call_streaming_url(url, data):\n",
    "    full_response = \"\"\n",
    "    try:\n",
    "        response = requests.post(url, json=data, stream=True)    \n",
    "    except:\n",
    "        time.sleep(20)\n",
    "        response = requests.post(url,json=data, stream=True)\n",
    "    \n",
    "    for chunk in response.iter_content(chunk_size=8192):\n",
    "        if chunk:\n",
    "            full_response = chunk.decode('utf-8')  # Concatenate each chunk to the full response\n",
    "    return full_response"
   ]
  },
  {
   "cell_type": "code",
   "execution_count": null,
   "metadata": {},
   "outputs": [],
   "source": [
    "from typing import List, Dict, Any, Optional\n",
    "async def callback(\n",
    "    messages: List[Dict],\n",
    "    stream: bool = False,\n",
    "    session_state: Any = None,\n",
    ") -> dict:\n",
    "    query = messages[\"messages\"][0][\"content\"]\n",
    "    context = None\n",
    "\n",
    "    # Add file contents for summarization or re-write\n",
    "    # if 'file_content' in messages[\"template_parameters\"]:\n",
    "    #     query += messages[\"template_parameters\"]['file_content']\n",
    "    m1 = {\"messages\": [{'content':query}]}\n",
    "    # Call your own endpoint and pass your query as input. Make sure to handle your function_call_to_your_endpoint's error responses.\n",
    "    \n",
    "    response = call_streaming_url(api_url, m1) \n",
    "   \n",
    "    # Format responses in OpenAI message protocol\n",
    "    try:\n",
    "        r = json.loads(response).get(\"choices\")[0].get(\"messages\")[0]\n",
    "    except:\n",
    "        r = response \n",
    "    \n",
    "    formatted_response = {\n",
    "        \"content\": r,\n",
    "        \"role\": \"assistant\",\n",
    "        \"context\": {},\n",
    "    }\n",
    "\n",
    "    messages[\"messages\"].append(formatted_response)\n",
    "\n",
    "    return {\n",
    "        \"messages\": messages[\"messages\"],\n",
    "        \"stream\": stream,\n",
    "        \"session_state\": session_state\n",
    "    }"
   ]
  },
  {
   "cell_type": "code",
   "execution_count": null,
   "metadata": {},
   "outputs": [],
   "source": [
    "from azure.ai.evaluation.simulator import AdversarialScenario\n",
    "from azure.identity import AzureCliCredential\n",
    "credential = AzureCliCredential()\n",
    "\n",
    "scenario = AdversarialScenario.ADVERSARIAL_QA\n",
    "adversarial_simulator = AdversarialSimulator(azure_ai_project=azure_ai_project, credential=credential)\n",
    "\n",
    "outputs = await adversarial_simulator(\n",
    "        scenario=scenario, # required adversarial scenario to simulate\n",
    "        target=callback, # callback function to simulate against\n",
    "        max_conversation_turns=1, #optional, applicable only to conversation scenario\n",
    "        max_simulation_results=count, #optional\n",
    "    )\n",
    "\n",
    "output_file_adversarial = Path(output_folder) / f\"content_safety_output.jsonl\"\n",
    "with output_file_adversarial.open(\"w\") as f:\n",
    "    f.write(outputs.to_eval_qr_json_lines())"
   ]
  },
  {
   "cell_type": "code",
   "execution_count": null,
   "metadata": {},
   "outputs": [],
   "source": [
    "from pathlib import Path\n",
    "from azure.ai.evaluation import ContentSafetyEvaluator\n",
    "import pandas as pd\n",
    "\n",
    "credential = AzureCliCredential()\n",
    "# instantiate an evaluator with image and multi-modal support\n",
    "safety_evaluator = ContentSafetyEvaluator(credential=credential, azure_ai_project=azure_ai_project)\n",
    "\n",
    "df = pd.read_json(output_file_adversarial, lines=True)\n",
    "json_string = []\n",
    "for index, row in df.iterrows(): \n",
    "    safety_score = safety_evaluator(query=row['query'], response=row['response'])\n",
    "    json_object = {\n",
    "        \"query\": row['query'],\n",
    "        \"response\": row['response'],\n",
    "        \"violance\": safety_score['violence'],\n",
    "        \"violence_score\": safety_score['violence_score'],\n",
    "        \"violence_reason\": safety_score['violence_reason'],\n",
    "        \"violence_threshold\": safety_score['violence_threshold'],\n",
    "        \"violence_result\": safety_score['violence_result'],\n",
    "        \"sexual\": safety_score['sexual'],\n",
    "        \"sexual_score\": safety_score['sexual_score'],\n",
    "        \"sexual_reason\": safety_score['sexual_reason'],\n",
    "        \"sexual_threshold\": safety_score['sexual_threshold'],\n",
    "        \"sexual_result\": safety_score['sexual_result'],\n",
    "        \"hate_unfairness\": safety_score['hate_unfairness'],\n",
    "        \"hate_unfairness_score\": safety_score['hate_unfairness_score'],\n",
    "        \"hate_unfairness_reason\": safety_score['hate_unfairness_reason'],\n",
    "        \"hate_unfairness_threshold\": safety_score['hate_unfairness_threshold'],\n",
    "        \"hate_unfairness_result\": safety_score['hate_unfairness_result'],\n",
    "        \"self_harm\": safety_score['self_harm'],\n",
    "        \"self_harm_score\": safety_score['self_harm_score'],\n",
    "        \"self_harm_reason\": safety_score['self_harm_reason'],\n",
    "        \"self_harm_threshold\": safety_score['self_harm_threshold'],\n",
    "        \"self_harm_result\": safety_score['self_harm_result']\n",
    "    }\n",
    "    json_string.append(json_object)\n",
    "file_eval = Path(output_folder) / f\"content_safety_output_scores.jsonl\"\n",
    "with Path(file_eval).open(\"w\") as f:\n",
    "  json.dump(json_string, f, indent=4)"
   ]
  },
  {
   "cell_type": "markdown",
   "metadata": {},
   "source": [
    "The following is an example of the Content Safety Evaluations. If you are not able to complete the evaluations at this time, please see an example [here](./Sample_content_safety_output_scores.jsonl)"
   ]
  },
  {
   "cell_type": "markdown",
   "metadata": {},
   "source": [
    "## Grounded Evaluations"
   ]
  },
  {
   "cell_type": "code",
   "execution_count": null,
   "metadata": {},
   "outputs": [],
   "source": [
    "model_config = {\n",
    "    \"azure_endpoint\": os.environ.get(\"AZURE_OPENAI_ENDPOINT\"),\n",
    "    \"azure_deployment\": os.environ.get(\"AZURE_OPENAI_DEPLOYMENT_MODEL\"),\n",
    "    \"api_version\": os.environ.get(\"AZURE_OPENAI_API_VERSION\"),\n",
    "}"
   ]
  },
  {
   "cell_type": "code",
   "execution_count": null,
   "metadata": {},
   "outputs": [],
   "source": [
    "from azure.ai.evaluation import GroundednessEvaluator\n",
    "\n",
    "groundedness_eval = GroundednessEvaluator(model_config)\n",
    "\n",
    "query_response = dict(\n",
    "    query=\"What is the top challenge users reported?\",\n",
    "    context=\"\",\n",
    "    response=\"Network Performance Issues: Concerns about poor network performance and service disruptions.\"\n",
    ")\n",
    "groundedness_score = groundedness_eval(\n",
    "    **query_response\n",
    ")\n",
    "print(groundedness_score)"
   ]
  },
  {
   "cell_type": "markdown",
   "metadata": {},
   "source": [
    "## Direct Attack Evaluations"
   ]
  },
  {
   "cell_type": "code",
   "execution_count": null,
   "metadata": {},
   "outputs": [],
   "source": [
    "# from azure.ai.evaluation.simulator import DirectAttackSimulator\n",
    "\n",
    "# output_filename = f\"direct_output.jsonl\"\n",
    "# scenario = AdversarialScenario.ADVERSARIAL_CONVERSATION\n",
    "\n",
    "# adversarial_simulator = DirectAttackSimulator(azure_ai_project=azure_ai_project, credential=credential)\n",
    "\n",
    "# outputs = await adversarial_simulator(\n",
    "#   target=callback,\n",
    "#   scenario=scenario,\n",
    "#   max_conversation_turns=1,\n",
    "#   max_simulation_results=count,\n",
    "# )\n",
    "\n",
    "# output_file_adversarial = Path(output_folder) / output_filename\n",
    "# with output_file_adversarial.open(\"w\") as f:\n",
    "#   f.write(json.dumps(outputs, indent=4))"
   ]
  },
  {
   "cell_type": "markdown",
   "metadata": {},
   "source": [
    "## Indirect Attack Evaluations\n"
   ]
  },
  {
   "cell_type": "code",
   "execution_count": null,
   "metadata": {},
   "outputs": [],
   "source": [
    "# from azure.ai.evaluation.simulator import IndirectAttackSimulator\n",
    "\n",
    "# output_filename = f\"indirect_output.jsonl\"\n",
    "# scenario = AdversarialScenario.ADVERSARIAL_CONVERSATION\n",
    "\n",
    "# adversarial_simulator = IndirectAttackSimulator(azure_ai_project=azure_ai_project, credential=credential)\n",
    "\n",
    "# outputs = await adversarial_simulator(\n",
    "#   target=callback,\n",
    "#   scenario=scenario,\n",
    "#   max_conversation_turns=1,\n",
    "#   max_simulation_results=count,\n",
    "# )\n",
    "\n",
    "# output_file_adversarial = Path(output_folder) / output_filename\n",
    "# with output_file_adversarial.open(\"w\") as f:\n",
    "#   f.write(json.dumps(outputs, indent=4))"
   ]
  }
 ],
 "metadata": {
  "kernelspec": {
   "display_name": "venv",
   "language": "python",
   "name": "python3"
  },
  "language_info": {
   "codemirror_mode": {
    "name": "ipython",
    "version": 3
   },
   "file_extension": ".py",
   "mimetype": "text/x-python",
   "name": "python",
   "nbconvert_exporter": "python",
   "pygments_lexer": "ipython3",
   "version": "3.11.9"
  }
 },
 "nbformat": 4,
 "nbformat_minor": 2
}
